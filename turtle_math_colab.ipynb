{
  "nbformat": 4,
  "nbformat_minor": 0,
  "metadata": {
    "colab": {
      "provenance": [],
      "authorship_tag": "ABX9TyNVa7/lg4MW2qdiquhBmxn2",
      "include_colab_link": true
    },
    "kernelspec": {
      "name": "python3",
      "display_name": "Python 3"
    },
    "language_info": {
      "name": "python"
    }
  },
  "cells": [
    {
      "cell_type": "markdown",
      "metadata": {
        "id": "view-in-github",
        "colab_type": "text"
      },
      "source": [
        "<a href=\"https://colab.research.google.com/github/kgibach/turtle-math/blob/main/turtle_math_colab.ipynb\" target=\"_parent\"><img src=\"https://colab.research.google.com/assets/colab-badge.svg\" alt=\"Open In Colab\"/></a>"
      ]
    },
    {
      "cell_type": "code",
      "execution_count": null,
      "metadata": {
        "id": "UB2NN_5zulNN"
      },
      "outputs": [],
      "source": [
        "!pip3 install ColabTurtle\n",
        "from ColabTurtle.Turtle import *\n",
        "initializeTurtle()\n",
        "speed(5)\n",
        "shape('turtle')\n",
        "def polygon(number_sides = 3):\n",
        "  for i in range(number_sides):\n",
        "    forward(100)\n",
        "    right(180 - (((number_sides - 2) * 180) / number_sides))\n",
        "number_sides = int(input(\"How many sides to your polygon?\"))\n",
        "polygon(number_sides)\n"
      ]
    },
    {
      "cell_type": "markdown",
      "source": [],
      "metadata": {
        "id": "Mnf2zakYzoAw"
      }
    }
  ]
}